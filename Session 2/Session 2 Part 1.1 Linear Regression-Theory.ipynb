{
 "cells": [
  {
   "cell_type": "markdown",
   "metadata": {},
   "source": [
    "You are supposed to decide whether the next Salman Khan film would earn over 200 crores. You have to predict the __Net Grossing__ of a film using its __Critic Rating__\n",
    "\n",
    "Try and think about the following questions:\n",
    "\n",
    "- What are the factors that you would have to consider while predicting the grossings of a movie?\n",
    "- Once you have decided this, think, what would be your hypothesis?\n",
    "- Mathematically, could you form a relation between all these parameters and the price?\n",
    "\n",
    "What you just did up there was solve a problem using\n",
    "TL;DR \n",
    "\n",
    "### Fitting a Line into your dataset"
   ]
  },
  {
   "cell_type": "markdown",
   "metadata": {},
   "source": [
    "# Types of Fits\n",
    "\n",
    "<br>\n",
    "\n",
    "<center><figure><img src='img/collage.jpg' height=500 weight=500></figure></center>"
   ]
  },
  {
   "cell_type": "markdown",
   "metadata": {},
   "source": [
    "# Linear Regression: the math under the hood\n",
    "\n",
    "Let us take a mathematical look at this algorithm. For starters, as we discussed above we could use a linear relation to show the relationship between our __target values__ or the _net grossings_ and our selected __parameters__ or the _critic's ratings_. \n",
    "\n",
    "Let us define our hypothesis function as follows:\n",
    "\n",
    "$$ h_\\theta(x) = \\theta_0 + \\theta_1x $$\n",
    "<br>\n",
    "where $\\theta_0 = 1$ __(why?)__ and $x$ is the critics' rating. $h_\\theta(x)$ represents your hypothesis function that you will be using to predict the grossings of the next movie."
   ]
  },
  {
   "cell_type": "markdown",
   "metadata": {},
   "source": [
    "## Trivia!\n",
    "\n",
    "### But how do you judge if your predictions are right?"
   ]
  },
  {
   "cell_type": "markdown",
   "metadata": {},
   "source": [
    "### Here is an example cost function:\n",
    "\n",
    "$$ J(\\theta) = h_\\theta(x) - y $$\n",
    "\n",
    "This is the crux of any machine learning algorithm. You define a cost function and try to minimise it's value so as to achieve a local minima.\n",
    "\n",
    "Here we have to try and minimise the value of the cose function. So suppose you have $m$ samples in your trainng set, your cost function would be:\n",
    "\n",
    "$$ J(\\theta) = \\sum_{i=0}^{m} (h_\\theta(x_i) - y_i) $$"
   ]
  },
  {
   "cell_type": "markdown",
   "metadata": {},
   "source": [
    "## Trivia!\n",
    "\n",
    "- __Can you spot something wrong with this cost function?__\n",
    "   \n",
    "   - __HINT__: Try to figure out the value of the cost function of the data points plotted here:\n",
    "   <br>\n",
    "   <center><figure><img src='img/here.jpg' width=500 height=500></figure></center>\n",
    "   <br> \n",
    "- __Can you think of a better cost function?__"
   ]
  },
  {
   "cell_type": "markdown",
   "metadata": {},
   "source": [
    "Mostly, statisticians use the following cost function while employing linear regression to solve problems:\n",
    "\n",
    "$$ J(\\theta) =  \\frac{1}{2m}\\sum_{i=0}^{m} (h_\\theta(x_i) - y_i)^2 $$"
   ]
  },
  {
   "cell_type": "markdown",
   "metadata": {},
   "source": [
    "## Trivia!\n",
    "\n",
    "- What are the advantages of this cost function?\n",
    "- Why is the $\\frac{1}{2m}$ factor there in the formula?"
   ]
  },
  {
   "cell_type": "markdown",
   "metadata": {},
   "source": [
    "## Trivia Again! :/\n",
    "\n",
    "Now, once you know with the help of the __cost function__ about the correctness of your hypothesis, how do you update it to achieve a minimum cost?"
   ]
  },
  {
   "cell_type": "markdown",
   "metadata": {},
   "source": [
    "# The blood-line of Machine Learning - Gradient Descent\n",
    "\n",
    "To arrive at the corrent hypothesis, we use the method of __Gradient Descent__.\n",
    "\n",
    "Let us go back to the hypothesis that we had selected:\n",
    "\n",
    "$$ h_\\theta(x) = \\theta_0 + \\theta_1x $$\n",
    "\n",
    "Here, $\\theta_0=1$, hence we would use $ h_\\theta(x) = 1 + \\theta_1x $\n"
   ]
  },
  {
   "cell_type": "markdown",
   "metadata": {},
   "source": [
    "## Trivia!\n",
    "\n",
    "Now that we have decided __what__ to optimise, how do we go about it? __Any ideas would be awesome!__\n",
    "\n",
    "\n",
    "Intuition explained on the board!"
   ]
  },
  {
   "cell_type": "markdown",
   "metadata": {},
   "source": [
    "# Deeper Dive into Gradient Descent - OPTIONAL\n",
    "\n",
    "## WARNING - Heavy high school math coming. Weak hearts not permitted to move ahead"
   ]
  },
  {
   "cell_type": "markdown",
   "metadata": {
    "collapsed": true
   },
   "source": [
    "Now that you know what __Gradient Descent__ is in theory, how do we mathematically model it?\n",
    "\n",
    "- Clearly, we need to update our parameters for the cose function to decrease, but how do we achieve minima?\n",
    "\n",
    "   - __HINT__: How did you calculate local maxima in high school?\n",
    "\n",
    "To understand this, imagine another cost function for a hypothesis with a single parameter, i.e., $H_\\theta(x) = \\theta_0x$. \n",
    "\n",
    "- What will be the required cost function?\n",
    "- What would the graph of the cost function look like? Sketch it!\n",
    "- How would you decide how to update the parameter $\\theta_0$?\n",
    "\n",
    "    __HINTS__:\n",
    "\n",
    "    - What does a derivative signify?\n",
    "    - How can the derivative of the cost function help you in updation?\n",
    "    - Would you need to 'scale' the steps you need to take for the local minima? \n",
    "\n",
    "\n",
    "```\n",
    "repeat until convergence {\n",
    "    \n",
    "    calculate_cost_function()\n",
    "    \n",
    "    for all parameters {\n",
    "    \n",
    "        update parameter towards optima\n",
    "    \n",
    "    }\n",
    "\n",
    "}\n",
    "```"
   ]
  }
 ],
 "metadata": {
  "kernelspec": {
   "display_name": "Python 3",
   "language": "python",
   "name": "python3"
  },
  "language_info": {
   "codemirror_mode": {
    "name": "ipython",
    "version": 3
   },
   "file_extension": ".py",
   "mimetype": "text/x-python",
   "name": "python",
   "nbconvert_exporter": "python",
   "pygments_lexer": "ipython3",
   "version": "3.6.3"
  }
 },
 "nbformat": 4,
 "nbformat_minor": 2
}
