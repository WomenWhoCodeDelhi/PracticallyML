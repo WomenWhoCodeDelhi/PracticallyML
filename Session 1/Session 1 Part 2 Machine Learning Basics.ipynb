{
 "cells": [
  {
   "cell_type": "markdown",
   "metadata": {},
   "source": [
    "# Introduction"
   ]
  },
  {
   "cell_type": "markdown",
   "metadata": {},
   "source": [
    "What do you think you would do as an \"ML Expert\"?\n",
    "\n",
    "<br>\n",
    "<br>\n",
    "<center><img src='img/meme1.png'><figcaption>We sincerely hope not this...</figcaption></figure></center>\n",
    "\n",
    "Let us begin with a simple definition of a Machine Learning Algorithm -\n",
    "<br>\n",
    "<br>\n",
    "<center>A computer program is said to learn from experience $E$ with respect to some class of tasks $T$ <br>and performance measure $P$ if its performance at tasks in $T$, as measured by $P$, improves with experience $E$ </center>"
   ]
  },
  {
   "cell_type": "markdown",
   "metadata": {},
   "source": [
    "## Trivia!\n",
    "\n",
    "\n",
    "For example, consider a program written to play the game of chess. \n",
    "\n",
    "- What is the Experience ($E$)?\n",
    "- What is the Task ($T$)?\n",
    "- What is the Performance Improvement ($P$)?"
   ]
  },
  {
   "cell_type": "markdown",
   "metadata": {},
   "source": [
    "# Terminologies in Machine Learning"
   ]
  },
  {
   "cell_type": "markdown",
   "metadata": {},
   "source": [
    "## 1. Dataset\n",
    "## 2. Label/Ground Truth\n",
    "## 3. Learning Algorithm\n",
    "## 4. Model\n",
    "## 5. Attributes vs. Features\n",
    "## 6. Accuracy \n",
    "## 7. Hyperparameters"
   ]
  },
  {
   "cell_type": "markdown",
   "metadata": {},
   "source": [
    "# Types of Learning Algorithms"
   ]
  },
  {
   "cell_type": "markdown",
   "metadata": {},
   "source": [
    "## 1. Supervised Learning\n",
    "\n",
    "Making predictions using data\n",
    "    \n",
    "- Example: Is a given email \"spam\" or \"ham\"?\n",
    "- There is an outcome we are trying to predict\n",
    "- Labels are present!"
   ]
  },
  {
   "cell_type": "markdown",
   "metadata": {},
   "source": [
    "<center><img src='img/01_spam_filter.png'></figure></center>"
   ]
  },
  {
   "cell_type": "markdown",
   "metadata": {},
   "source": [
    "## 2. Unsupervised Learning\n",
    "\n",
    "Extracting structure from data\n",
    "\n",
    "- Example: Segment grocery store shoppers into clusters that exhibit similar behaviors\n",
    "- There is no \"right answer\"\n",
    "- Labels are not present!"
   ]
  },
  {
   "cell_type": "markdown",
   "metadata": {},
   "source": [
    "<center><img src='img/01_clustering.png'></figure></center>"
   ]
  },
  {
   "cell_type": "markdown",
   "metadata": {},
   "source": [
    "## 3. (Advanced) Semi-supervised Learning\n",
    "\n",
    "Supervised + Unsupervised methods\n",
    "\n",
    "- Example: Segment grocery store shoppers into clusters that exhibit similar behaviors, you know labels of about 10% of shoppers\n",
    "- Labels are present for __some__ of the datapoints"
   ]
  },
  {
   "cell_type": "markdown",
   "metadata": {},
   "source": [
    "## 4. Reinforcement Learning\n",
    "\n",
    "Penalising mistakes and developing strategies according to past mistakes\n",
    "\n",
    "- Example: Make a self driving car!\n",
    "- Penalty given to wrong strategy, rewards given to correct ones!"
   ]
  },
  {
   "cell_type": "markdown",
   "metadata": {},
   "source": [
    "<center><img src='img/reinforcement.jpeg'></figure></center>"
   ]
  },
  {
   "cell_type": "markdown",
   "metadata": {},
   "source": [
    "# Contest Alert! - Which type of a learning algorithm will you use? and why?\n",
    "\n",
    "## We will provide you with a scenario and you would have to explain which learning algorithm you would use in the given situation. The best answer get a goodie 😛\n",
    "\n",
    "Note - \n",
    "1. There is no wrong or right answer. Your explanation is what counts\n",
    "2. You need to explain what _input_ you will require and what _output_ will your algorithm give\n",
    "3. You can use multiple learning algorithms. You can combine them, or use them one after another. Basically, be creative! \n",
    "4. Discussions are encouranged!\n",
    "5. It is timed! __10 MINUTES!__\n"
   ]
  },
  {
   "cell_type": "markdown",
   "metadata": {},
   "source": [
    "# A general machine learning pipeline"
   ]
  },
  {
   "cell_type": "markdown",
   "metadata": {},
   "source": [
    "## But before that..\n",
    "\n",
    "In Machine Learning, whatever data that you are given is separated is divided into two parts.\n",
    "- Training Data\n",
    "- Test Data/Unseen Data\n",
    "- There are more categories that we will explore later!\n",
    "\n",
    "The division is mostly 60% - 40% or 70% - 30% of the whole data, depending upon various cases. \n",
    "<br>"
   ]
  },
  {
   "cell_type": "markdown",
   "metadata": {},
   "source": [
    "<center><img src='img/flowchart.png'><figcaption>A concise idea you might have got so far</figcaption></figure></center>"
   ]
  },
  {
   "cell_type": "markdown",
   "metadata": {},
   "source": [
    "## Steps any Machine Learning Project follows"
   ]
  },
  {
   "cell_type": "markdown",
   "metadata": {},
   "source": [
    "<center><img src='img/ml_pipeline.png'></figure></center>"
   ]
  },
  {
   "cell_type": "markdown",
   "metadata": {},
   "source": [
    "# [Important] Analysing ML models"
   ]
  },
  {
   "cell_type": "markdown",
   "metadata": {},
   "source": [
    "What are some of the things that come into your mind while analysing ML models?"
   ]
  },
  {
   "cell_type": "markdown",
   "metadata": {},
   "source": [
    "- How do I choose **which attributes** of my data to include in the model?\n",
    "- How do I choose **which model** to use?\n",
    "- How do I **optimize** this model for best performance?\n",
    "- How do I ensure that I'm building a model that will **generalize** to unseen data?\n",
    "- Can I **estimate** how well my model is likely to perform on unseen data?"
   ]
  },
  {
   "cell_type": "markdown",
   "metadata": {},
   "source": [
    "## We will learn several other practical aspects of modelling Machine Learning Algorithms on the fly!"
   ]
  }
 ],
 "metadata": {
  "kernelspec": {
   "display_name": "Python 3",
   "language": "python",
   "name": "python3"
  },
  "language_info": {
   "codemirror_mode": {
    "name": "ipython",
    "version": 3
   },
   "file_extension": ".py",
   "mimetype": "text/x-python",
   "name": "python",
   "nbconvert_exporter": "python",
   "pygments_lexer": "ipython3",
   "version": "3.6.3"
  }
 },
 "nbformat": 4,
 "nbformat_minor": 2
}
